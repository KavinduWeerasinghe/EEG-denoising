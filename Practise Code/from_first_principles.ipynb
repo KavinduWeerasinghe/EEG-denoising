{
 "cells": [
  {
   "cell_type": "code",
   "execution_count": 2,
   "metadata": {},
   "outputs": [],
   "source": [
    "from pymatreader import read_mat\n",
    "import numpy as np\n",
    "import matplotlib.pyplot as plt\n",
    "from numpy.lib.stride_tricks import sliding_window_view\n",
    "from scipy.stats import kurtosis,skew,entropy\n",
    "import eeglib\n",
    "import joblib\n"
   ]
  },
  {
   "cell_type": "code",
   "execution_count": 3,
   "metadata": {},
   "outputs": [
    {
     "name": "stdout",
     "output_type": "stream",
     "text": [
      "D:/FYP/EEGdenoiseNet-master/EEGdenoiseNet-master/data/EMG_all_epochs.npy\n",
      "(5598, 512)\n"
     ]
    }
   ],
   "source": [
    "types=['EEG','EOG','EMG']\n",
    "exs=['mat','npy']\n",
    "\n",
    "type=types[2]\n",
    "ex=exs[1]\n",
    "\n",
    "file_loc=\"D:/FYP/EEGdenoiseNet-master/EEGdenoiseNet-master/data/{0}_all_epochs.{1}\".format(type,ex)\n",
    "print(file_loc)\n",
    "\n",
    "if ex=='mat':\n",
    "    data=read_mat(file_loc)\n",
    "    print(data.keys())\n",
    "    fs=data['fs']\n",
    "    epochs=data['{0}_all_epochs'.format(type)]\n",
    "    print(epochs.shape)\n",
    "else:\n",
    "    epochs=np.load(file_loc)\n",
    "    print(epochs.shape)"
   ]
  },
  {
   "cell_type": "markdown",
   "metadata": {},
   "source": [
    "Making the dummy dataset"
   ]
  },
  {
   "cell_type": "code",
   "execution_count": 4,
   "metadata": {},
   "outputs": [],
   "source": [
    "class Signals:\n",
    "    def __init__(self,data,target,target_names, feature_names):\n",
    "        self.data=data\n",
    "        self.target=target\n",
    "        self.target_names=target_names\n",
    "        self.feature_names=feature_names"
   ]
  },
  {
   "cell_type": "code",
   "execution_count": 5,
   "metadata": {},
   "outputs": [],
   "source": [
    "def hj_mobility(data,axis_=1):\n",
    "    return np.sqrt(np.var(np.diff(data,axis=axis_),axis=axis_)/np.var(data,axis=axis_))\n",
    "\n",
    "def hj_complexity(data,axis_=1):\n",
    "    return hj_mobility(np.diff(data,axis=axis_),axis_=axis_)/hj_mobility(data,axis_=axis_)"
   ]
  },
  {
   "cell_type": "code",
   "execution_count": 6,
   "metadata": {},
   "outputs": [
    {
     "name": "stdout",
     "output_type": "stream",
     "text": [
      "(4514, 1) (4514, 1) (4514, 1)\n",
      "(3400, 1) (3400, 1) (3400, 1)\n",
      "(5598, 1) (5598, 1) (5598, 1)\n"
     ]
    }
   ],
   "source": [
    "data_train=[]\n",
    "target_train=[]\n",
    "data_test=[]\n",
    "target_test=[]\n",
    "portion =0.3\n",
    "target_names=['brain','eye','muscle']\n",
    "feature_names=['hj_mob','skewness','kurtosis','hj_comp']\n",
    "for i,type in enumerate(types):\n",
    "    file_loc=\"D:/FYP/EEGdenoiseNet-master/EEGdenoiseNet-master/data/{0}_all_epochs.{1}\".format(types[i],exs[1])\n",
    "    data_i=np.load(file_loc)\n",
    "    target_i=np.array([i]*data_i.shape[0])\n",
    "    target_i=target_i.reshape(1,target_i.shape[0])\n",
    "    #normalise the data_i array\n",
    "    mu_i=np.mean(data_i,axis=1)\n",
    "    mu_i=mu_i.reshape(mu_i.shape[0],1)\n",
    "    sigma_i=np.std(data_i,axis=1)\n",
    "    sigma_i=sigma_i.reshape(sigma_i.shape[0],1)\n",
    "    data_i=(data_i-mu_i)/sigma_i\n",
    "\n",
    "    #mobility\n",
    "    hj_mob_i=hj_mobility(data_i)\n",
    "    hj_mob_i=hj_mob_i.reshape(hj_mob_i.shape[0],1)\n",
    "\n",
    "    #complexity\n",
    "    hj_comp_i=hj_complexity(data_i)\n",
    "    hj_comp_i=hj_comp_i.reshape(hj_comp_i.shape[0],1)\n",
    "\n",
    "    #skew\n",
    "    skewness_i=skew(data_i,axis=1)**2\n",
    "    skewness_i=skewness_i.reshape(skewness_i.shape[0],1)\n",
    "\n",
    "    #kurtosis\n",
    "    kurtosis_i=kurtosis(data_i,axis=1)**2\n",
    "    kurtosis_i=kurtosis_i.reshape(kurtosis_i.shape[0],1)\n",
    "    print(hj_mob_i.shape,skewness_i.shape,kurtosis_i.shape)\n",
    "    data_i=np.hstack((hj_mob_i,skewness_i,kurtosis_i,hj_comp_i)).T\n",
    "    if i==0:\n",
    "        data=data_i\n",
    "        target=target_i\n",
    "    else:\n",
    "        data=np.hstack((data,data_i))\n",
    "        target=np.hstack((target,target_i))\n"
   ]
  },
  {
   "cell_type": "code",
   "execution_count": 7,
   "metadata": {},
   "outputs": [],
   "source": [
    "\n",
    "Test_One=Signals(data,target,target_names,feature_names)"
   ]
  },
  {
   "cell_type": "code",
   "execution_count": 8,
   "metadata": {},
   "outputs": [],
   "source": [
    "X,y=Test_One.data,Test_One.target\n",
    "\n",
    "X=X.T\n",
    "y=y.T\n",
    "\n"
   ]
  },
  {
   "cell_type": "code",
   "execution_count": 12,
   "metadata": {},
   "outputs": [],
   "source": [
    "from sklearn.model_selection import train_test_split \n",
    "# i.e. 70 % training dataset and 30 % test datasets \n",
    "X_train, X_test, y_train, y_test = train_test_split(X, y, test_size = 0.50, shuffle=False) \n",
    "np.random.seed(43)\n",
    "indices=np.random.permutation(X_train.shape[0])\n",
    "X_train=X_train[indices]\n",
    "y_train=y_train[indices]"
   ]
  },
  {
   "cell_type": "code",
   "execution_count": 13,
   "metadata": {},
   "outputs": [
    {
     "name": "stdout",
     "output_type": "stream",
     "text": [
      "200\n"
     ]
    },
    {
     "name": "stderr",
     "output_type": "stream",
     "text": [
      "c:\\Python310\\lib\\site-packages\\sklearn\\base.py:1151: DataConversionWarning: A column-vector y was passed when a 1d array was expected. Please change the shape of y to (n_samples,), for example using ravel().\n",
      "  return fit_method(estimator, *args, **kwargs)\n"
     ]
    },
    {
     "name": "stdout",
     "output_type": "stream",
     "text": [
      "OOB ERROR:  0.0\n",
      "ACCURACY OF THE MODEL:  0.1714031971580817\n"
     ]
    }
   ],
   "source": [
    "from sklearn.ensemble import RandomForestClassifier \n",
    "\n",
    "def testing_for_number_of_trees(n,X_train,y_train,X_test,y_test):\n",
    "    print(n)\n",
    "    clf = RandomForestClassifier(n_estimators = n,max_depth=10,oob_score=True,random_state=42)   \n",
    "    clf.fit(X_train, y_train) \n",
    "    oob_error = 1 - clf.oob_score_\n",
    "    print(\"OOB ERROR: \",oob_error)\n",
    "    y_pred = clf.predict(X_test) \n",
    "    from sklearn import metrics   \n",
    "    print(\"ACCURACY OF THE MODEL: \", metrics.accuracy_score(y_test, y_pred))\n",
    "    return clf\n",
    "\n",
    "clf=testing_for_number_of_trees(200,X_train,y_train,X_test,y_test)"
   ]
  },
  {
   "cell_type": "code",
   "execution_count": 42,
   "metadata": {},
   "outputs": [
    {
     "data": {
      "text/plain": [
       "hj_mob      0.506331\n",
       "hj_comp     0.443510\n",
       "kurtosis    0.041910\n",
       "skewness    0.008249\n",
       "dtype: float64"
      ]
     },
     "execution_count": 42,
     "metadata": {},
     "output_type": "execute_result"
    }
   ],
   "source": [
    "import pandas as pd \n",
    "feature_imp = pd.Series(clf.feature_importances_, index = Test_One.feature_names).sort_values(ascending = False) \n",
    "feature_imp\n"
   ]
  },
  {
   "cell_type": "markdown",
   "metadata": {},
   "source": [
    "Save the model"
   ]
  },
  {
   "cell_type": "code",
   "execution_count": 43,
   "metadata": {},
   "outputs": [
    {
     "data": {
      "text/plain": [
       "['random_forest.joblib']"
      ]
     },
     "execution_count": 43,
     "metadata": {},
     "output_type": "execute_result"
    }
   ],
   "source": [
    "#save the model parameters\n",
    "joblib.dump(clf, \"random_forest.joblib\")\n"
   ]
  },
  {
   "cell_type": "code",
   "execution_count": 14,
   "metadata": {},
   "outputs": [],
   "source": [
    "# Modelling\n",
    "from sklearn.ensemble import RandomForestClassifier\n",
    "from sklearn.metrics import accuracy_score, confusion_matrix, precision_score, recall_score, ConfusionMatrixDisplay\n",
    "from sklearn.model_selection import RandomizedSearchCV, train_test_split\n",
    "from scipy.stats import randint\n",
    "\n",
    "# Tree Visualisation\n",
    "from sklearn.tree import export_graphviz\n",
    "from IPython.display import Image\n",
    "import graphviz"
   ]
  },
  {
   "cell_type": "code",
   "execution_count": 19,
   "metadata": {},
   "outputs": [
    {
     "data": {
      "image/svg+xml": [
       "<?xml version=\"1.0\" encoding=\"UTF-8\" standalone=\"no\"?>\n",
       "<!DOCTYPE svg PUBLIC \"-//W3C//DTD SVG 1.1//EN\"\n",
       " \"http://www.w3.org/Graphics/SVG/1.1/DTD/svg11.dtd\">\n",
       "<!-- Generated by graphviz version 9.0.0 (20230911.1827)\n",
       " -->\n",
       "<!-- Title: Tree Pages: 1 -->\n",
       "<svg width=\"505pt\" height=\"330pt\"\n",
       " viewBox=\"0.00 0.00 505.00 329.50\" xmlns=\"http://www.w3.org/2000/svg\" xmlns:xlink=\"http://www.w3.org/1999/xlink\">\n",
       "<g id=\"graph0\" class=\"graph\" transform=\"scale(1 1) rotate(0) translate(4 325.5)\">\n",
       "<title>Tree</title>\n",
       "<polygon fill=\"white\" stroke=\"none\" points=\"-4,4 -4,-325.5 501,-325.5 501,4 -4,4\"/>\n",
       "<!-- 0 -->\n",
       "<g id=\"node1\" class=\"node\">\n",
       "<title>0</title>\n",
       "<polygon fill=\"#efe5fc\" stroke=\"black\" points=\"429.75,-321.5 232.25,-321.5 232.25,-264 429.75,-264 429.75,-321.5\"/>\n",
       "<text text-anchor=\"middle\" x=\"331\" y=\"-304.2\" font-family=\"Helvetica,sans-Serif\" font-size=\"14.00\">hj_mob &lt;= 0.655</text>\n",
       "<text text-anchor=\"middle\" x=\"331\" y=\"-287.7\" font-family=\"Helvetica,sans-Serif\" font-size=\"14.00\">samples = 100.0%</text>\n",
       "<text text-anchor=\"middle\" x=\"331\" y=\"-271.2\" font-family=\"Helvetica,sans-Serif\" font-size=\"14.00\">value = [0.332, 0.248, 0.419]</text>\n",
       "</g>\n",
       "<!-- 1 -->\n",
       "<g id=\"node2\" class=\"node\">\n",
       "<title>1</title>\n",
       "<polygon fill=\"#f8dfcd\" stroke=\"black\" points=\"330.5,-228 149.5,-228 149.5,-170.5 330.5,-170.5 330.5,-228\"/>\n",
       "<text text-anchor=\"middle\" x=\"240\" y=\"-210.7\" font-family=\"Helvetica,sans-Serif\" font-size=\"14.00\">hj_comp &lt;= 3.685</text>\n",
       "<text text-anchor=\"middle\" x=\"240\" y=\"-194.2\" font-family=\"Helvetica,sans-Serif\" font-size=\"14.00\">samples = 58.7%</text>\n",
       "<text text-anchor=\"middle\" x=\"240\" y=\"-177.7\" font-family=\"Helvetica,sans-Serif\" font-size=\"14.00\">value = [0.572, 0.428, 0.0]</text>\n",
       "</g>\n",
       "<!-- 0&#45;&gt;1 -->\n",
       "<g id=\"edge1\" class=\"edge\">\n",
       "<title>0&#45;&gt;1</title>\n",
       "<path fill=\"none\" stroke=\"black\" d=\"M303.2,-263.8C294.64,-255.19 285.08,-245.58 276.05,-236.5\"/>\n",
       "<polygon fill=\"black\" stroke=\"black\" points=\"278.54,-234.04 269.01,-229.42 273.58,-238.98 278.54,-234.04\"/>\n",
       "<text text-anchor=\"middle\" x=\"267.87\" y=\"-248.29\" font-family=\"Helvetica,sans-Serif\" font-size=\"14.00\">True</text>\n",
       "</g>\n",
       "<!-- 6 -->\n",
       "<g id=\"node7\" class=\"node\">\n",
       "<title>6</title>\n",
       "<polygon fill=\"#8139e5\" stroke=\"black\" points=\"497,-219.75 349,-219.75 349,-178.75 497,-178.75 497,-219.75\"/>\n",
       "<text text-anchor=\"middle\" x=\"423\" y=\"-202.45\" font-family=\"Helvetica,sans-Serif\" font-size=\"14.00\">samples = 41.3%</text>\n",
       "<text text-anchor=\"middle\" x=\"423\" y=\"-185.95\" font-family=\"Helvetica,sans-Serif\" font-size=\"14.00\">value = [0.0, 0.0, 1.0]</text>\n",
       "</g>\n",
       "<!-- 0&#45;&gt;6 -->\n",
       "<g id=\"edge6\" class=\"edge\">\n",
       "<title>0&#45;&gt;6</title>\n",
       "<path fill=\"none\" stroke=\"black\" d=\"M359.35,-263.55C370.74,-252.23 383.83,-239.21 395.16,-227.94\"/>\n",
       "<polygon fill=\"black\" stroke=\"black\" points=\"397.36,-230.69 401.98,-221.16 392.42,-225.73 397.36,-230.69\"/>\n",
       "<text text-anchor=\"middle\" x=\"402.99\" y=\"-240.04\" font-family=\"Helvetica,sans-Serif\" font-size=\"14.00\">False</text>\n",
       "</g>\n",
       "<!-- 2 -->\n",
       "<g id=\"node3\" class=\"node\">\n",
       "<title>2</title>\n",
       "<polygon fill=\"#e58139\" stroke=\"black\" points=\"231,-134.5 83,-134.5 83,-77 231,-77 231,-134.5\"/>\n",
       "<text text-anchor=\"middle\" x=\"157\" y=\"-117.2\" font-family=\"Helvetica,sans-Serif\" font-size=\"14.00\">hj_mob &lt;= 0.167</text>\n",
       "<text text-anchor=\"middle\" x=\"157\" y=\"-100.7\" font-family=\"Helvetica,sans-Serif\" font-size=\"14.00\">samples = 33.4%</text>\n",
       "<text text-anchor=\"middle\" x=\"157\" y=\"-84.2\" font-family=\"Helvetica,sans-Serif\" font-size=\"14.00\">value = [1.0, 0.0, 0.0]</text>\n",
       "</g>\n",
       "<!-- 1&#45;&gt;2 -->\n",
       "<g id=\"edge2\" class=\"edge\">\n",
       "<title>1&#45;&gt;2</title>\n",
       "<path fill=\"none\" stroke=\"black\" d=\"M214.65,-170.3C206.91,-161.78 198.3,-152.28 190.13,-143.27\"/>\n",
       "<polygon fill=\"black\" stroke=\"black\" points=\"192.81,-141.02 183.5,-135.97 187.63,-145.72 192.81,-141.02\"/>\n",
       "</g>\n",
       "<!-- 5 -->\n",
       "<g id=\"node6\" class=\"node\">\n",
       "<title>5</title>\n",
       "<polygon fill=\"#39e581\" stroke=\"black\" points=\"397,-126.25 249,-126.25 249,-85.25 397,-85.25 397,-126.25\"/>\n",
       "<text text-anchor=\"middle\" x=\"323\" y=\"-108.95\" font-family=\"Helvetica,sans-Serif\" font-size=\"14.00\">samples = 25.3%</text>\n",
       "<text text-anchor=\"middle\" x=\"323\" y=\"-92.45\" font-family=\"Helvetica,sans-Serif\" font-size=\"14.00\">value = [0.0, 1.0, 0.0]</text>\n",
       "</g>\n",
       "<!-- 1&#45;&gt;5 -->\n",
       "<g id=\"edge5\" class=\"edge\">\n",
       "<title>1&#45;&gt;5</title>\n",
       "<path fill=\"none\" stroke=\"black\" d=\"M265.35,-170.3C275.53,-159.08 287.25,-146.16 297.45,-134.91\"/>\n",
       "<polygon fill=\"black\" stroke=\"black\" points=\"299.76,-137.58 303.89,-127.82 294.58,-132.87 299.76,-137.58\"/>\n",
       "</g>\n",
       "<!-- 3 -->\n",
       "<g id=\"node4\" class=\"node\">\n",
       "<title>3</title>\n",
       "<polygon fill=\"#39e581\" stroke=\"black\" points=\"148,-41 0,-41 0,0 148,0 148,-41\"/>\n",
       "<text text-anchor=\"middle\" x=\"74\" y=\"-23.7\" font-family=\"Helvetica,sans-Serif\" font-size=\"14.00\">samples = 0.0%</text>\n",
       "<text text-anchor=\"middle\" x=\"74\" y=\"-7.2\" font-family=\"Helvetica,sans-Serif\" font-size=\"14.00\">value = [0.0, 1.0, 0.0]</text>\n",
       "</g>\n",
       "<!-- 2&#45;&gt;3 -->\n",
       "<g id=\"edge3\" class=\"edge\">\n",
       "<title>2&#45;&gt;3</title>\n",
       "<path fill=\"none\" stroke=\"black\" d=\"M128.9,-76.57C120.13,-67.77 110.47,-58.08 101.73,-49.31\"/>\n",
       "<polygon fill=\"black\" stroke=\"black\" points=\"104.3,-46.93 94.76,-42.32 99.34,-51.87 104.3,-46.93\"/>\n",
       "</g>\n",
       "<!-- 4 -->\n",
       "<g id=\"node5\" class=\"node\">\n",
       "<title>4</title>\n",
       "<polygon fill=\"#e58139\" stroke=\"black\" points=\"314,-41 166,-41 166,0 314,0 314,-41\"/>\n",
       "<text text-anchor=\"middle\" x=\"240\" y=\"-23.7\" font-family=\"Helvetica,sans-Serif\" font-size=\"14.00\">samples = 33.4%</text>\n",
       "<text text-anchor=\"middle\" x=\"240\" y=\"-7.2\" font-family=\"Helvetica,sans-Serif\" font-size=\"14.00\">value = [1.0, 0.0, 0.0]</text>\n",
       "</g>\n",
       "<!-- 2&#45;&gt;4 -->\n",
       "<g id=\"edge4\" class=\"edge\">\n",
       "<title>2&#45;&gt;4</title>\n",
       "<path fill=\"none\" stroke=\"black\" d=\"M185.1,-76.57C193.87,-67.77 203.53,-58.08 212.27,-49.31\"/>\n",
       "<polygon fill=\"black\" stroke=\"black\" points=\"214.66,-51.87 219.24,-42.32 209.7,-46.93 214.66,-51.87\"/>\n",
       "</g>\n",
       "</g>\n",
       "</svg>\n"
      ],
      "text/plain": [
       "<graphviz.sources.Source at 0x18d5e8dd3f0>"
      ]
     },
     "metadata": {},
     "output_type": "display_data"
    },
    {
     "data": {
      "image/svg+xml": [
       "<?xml version=\"1.0\" encoding=\"UTF-8\" standalone=\"no\"?>\n",
       "<!DOCTYPE svg PUBLIC \"-//W3C//DTD SVG 1.1//EN\"\n",
       " \"http://www.w3.org/Graphics/SVG/1.1/DTD/svg11.dtd\">\n",
       "<!-- Generated by graphviz version 9.0.0 (20230911.1827)\n",
       " -->\n",
       "<!-- Title: Tree Pages: 1 -->\n",
       "<svg width=\"422pt\" height=\"236pt\"\n",
       " viewBox=\"0.00 0.00 422.00 236.00\" xmlns=\"http://www.w3.org/2000/svg\" xmlns:xlink=\"http://www.w3.org/1999/xlink\">\n",
       "<g id=\"graph0\" class=\"graph\" transform=\"scale(1 1) rotate(0) translate(4 232)\">\n",
       "<title>Tree</title>\n",
       "<polygon fill=\"white\" stroke=\"none\" points=\"-4,4 -4,-232 418,-232 418,4 -4,4\"/>\n",
       "<!-- 0 -->\n",
       "<g id=\"node1\" class=\"node\">\n",
       "<title>0</title>\n",
       "<polygon fill=\"#ede3fb\" stroke=\"black\" points=\"263.75,-228 66.25,-228 66.25,-170.5 263.75,-170.5 263.75,-228\"/>\n",
       "<text text-anchor=\"middle\" x=\"165\" y=\"-210.7\" font-family=\"Helvetica,sans-Serif\" font-size=\"14.00\">hj_comp &lt;= 2.067</text>\n",
       "<text text-anchor=\"middle\" x=\"165\" y=\"-194.2\" font-family=\"Helvetica,sans-Serif\" font-size=\"14.00\">samples = 100.0%</text>\n",
       "<text text-anchor=\"middle\" x=\"165\" y=\"-177.7\" font-family=\"Helvetica,sans-Serif\" font-size=\"14.00\">value = [0.328, 0.251, 0.421]</text>\n",
       "</g>\n",
       "<!-- 1 -->\n",
       "<g id=\"node2\" class=\"node\">\n",
       "<title>1</title>\n",
       "<polygon fill=\"#8139e5\" stroke=\"black\" points=\"148,-126.25 0,-126.25 0,-85.25 148,-85.25 148,-126.25\"/>\n",
       "<text text-anchor=\"middle\" x=\"74\" y=\"-108.95\" font-family=\"Helvetica,sans-Serif\" font-size=\"14.00\">samples = 42.1%</text>\n",
       "<text text-anchor=\"middle\" x=\"74\" y=\"-92.45\" font-family=\"Helvetica,sans-Serif\" font-size=\"14.00\">value = [0.0, 0.0, 1.0]</text>\n",
       "</g>\n",
       "<!-- 0&#45;&gt;1 -->\n",
       "<g id=\"edge1\" class=\"edge\">\n",
       "<title>0&#45;&gt;1</title>\n",
       "<path fill=\"none\" stroke=\"black\" d=\"M137.2,-170.3C125.93,-158.97 112.94,-145.91 101.68,-134.58\"/>\n",
       "<polygon fill=\"black\" stroke=\"black\" points=\"104.44,-132.39 94.9,-127.77 99.47,-137.33 104.44,-132.39\"/>\n",
       "<text text-anchor=\"middle\" x=\"93.77\" y=\"-146.65\" font-family=\"Helvetica,sans-Serif\" font-size=\"14.00\">True</text>\n",
       "</g>\n",
       "<!-- 2 -->\n",
       "<g id=\"node3\" class=\"node\">\n",
       "<title>2</title>\n",
       "<polygon fill=\"#f9e2d1\" stroke=\"black\" points=\"347.5,-134.5 166.5,-134.5 166.5,-77 347.5,-77 347.5,-134.5\"/>\n",
       "<text text-anchor=\"middle\" x=\"257\" y=\"-117.2\" font-family=\"Helvetica,sans-Serif\" font-size=\"14.00\">hj_mob &lt;= 0.195</text>\n",
       "<text text-anchor=\"middle\" x=\"257\" y=\"-100.7\" font-family=\"Helvetica,sans-Serif\" font-size=\"14.00\">samples = 57.9%</text>\n",
       "<text text-anchor=\"middle\" x=\"257\" y=\"-84.2\" font-family=\"Helvetica,sans-Serif\" font-size=\"14.00\">value = [0.566, 0.434, 0.0]</text>\n",
       "</g>\n",
       "<!-- 0&#45;&gt;2 -->\n",
       "<g id=\"edge2\" class=\"edge\">\n",
       "<title>0&#45;&gt;2</title>\n",
       "<path fill=\"none\" stroke=\"black\" d=\"M193.35,-170.05C202,-161.45 211.64,-151.87 220.73,-142.82\"/>\n",
       "<polygon fill=\"black\" stroke=\"black\" points=\"223.2,-145.3 227.82,-135.77 218.27,-140.34 223.2,-145.3\"/>\n",
       "<text text-anchor=\"middle\" x=\"228.83\" y=\"-154.65\" font-family=\"Helvetica,sans-Serif\" font-size=\"14.00\">False</text>\n",
       "</g>\n",
       "<!-- 3 -->\n",
       "<g id=\"node4\" class=\"node\">\n",
       "<title>3</title>\n",
       "<polygon fill=\"#39e581\" stroke=\"black\" points=\"248,-41 100,-41 100,0 248,0 248,-41\"/>\n",
       "<text text-anchor=\"middle\" x=\"174\" y=\"-23.7\" font-family=\"Helvetica,sans-Serif\" font-size=\"14.00\">samples = 25.4%</text>\n",
       "<text text-anchor=\"middle\" x=\"174\" y=\"-7.2\" font-family=\"Helvetica,sans-Serif\" font-size=\"14.00\">value = [0.0, 1.0, 0.0]</text>\n",
       "</g>\n",
       "<!-- 2&#45;&gt;3 -->\n",
       "<g id=\"edge3\" class=\"edge\">\n",
       "<title>2&#45;&gt;3</title>\n",
       "<path fill=\"none\" stroke=\"black\" d=\"M228.9,-76.57C220.13,-67.77 210.47,-58.08 201.73,-49.31\"/>\n",
       "<polygon fill=\"black\" stroke=\"black\" points=\"204.3,-46.93 194.76,-42.32 199.34,-51.87 204.3,-46.93\"/>\n",
       "</g>\n",
       "<!-- 4 -->\n",
       "<g id=\"node5\" class=\"node\">\n",
       "<title>4</title>\n",
       "<polygon fill=\"#e58139\" stroke=\"black\" points=\"414,-41 266,-41 266,0 414,0 414,-41\"/>\n",
       "<text text-anchor=\"middle\" x=\"340\" y=\"-23.7\" font-family=\"Helvetica,sans-Serif\" font-size=\"14.00\">samples = 32.6%</text>\n",
       "<text text-anchor=\"middle\" x=\"340\" y=\"-7.2\" font-family=\"Helvetica,sans-Serif\" font-size=\"14.00\">value = [1.0, 0.0, 0.0]</text>\n",
       "</g>\n",
       "<!-- 2&#45;&gt;4 -->\n",
       "<g id=\"edge4\" class=\"edge\">\n",
       "<title>2&#45;&gt;4</title>\n",
       "<path fill=\"none\" stroke=\"black\" d=\"M285.1,-76.57C293.87,-67.77 303.53,-58.08 312.27,-49.31\"/>\n",
       "<polygon fill=\"black\" stroke=\"black\" points=\"314.66,-51.87 319.24,-42.32 309.7,-46.93 314.66,-51.87\"/>\n",
       "</g>\n",
       "</g>\n",
       "</svg>\n"
      ],
      "text/plain": [
       "<graphviz.sources.Source at 0x18d5e8ddd20>"
      ]
     },
     "metadata": {},
     "output_type": "display_data"
    },
    {
     "data": {
      "image/svg+xml": [
       "<?xml version=\"1.0\" encoding=\"UTF-8\" standalone=\"no\"?>\n",
       "<!DOCTYPE svg PUBLIC \"-//W3C//DTD SVG 1.1//EN\"\n",
       " \"http://www.w3.org/Graphics/SVG/1.1/DTD/svg11.dtd\">\n",
       "<!-- Generated by graphviz version 9.0.0 (20230911.1827)\n",
       " -->\n",
       "<!-- Title: Tree Pages: 1 -->\n",
       "<svg width=\"430pt\" height=\"330pt\"\n",
       " viewBox=\"0.00 0.00 430.00 329.50\" xmlns=\"http://www.w3.org/2000/svg\" xmlns:xlink=\"http://www.w3.org/1999/xlink\">\n",
       "<g id=\"graph0\" class=\"graph\" transform=\"scale(1 1) rotate(0) translate(4 325.5)\">\n",
       "<title>Tree</title>\n",
       "<polygon fill=\"white\" stroke=\"none\" points=\"-4,4 -4,-325.5 426,-325.5 426,4 -4,4\"/>\n",
       "<!-- 0 -->\n",
       "<g id=\"node1\" class=\"node\">\n",
       "<title>0</title>\n",
       "<polygon fill=\"#f0e7fc\" stroke=\"black\" points=\"263.75,-321.5 66.25,-321.5 66.25,-264 263.75,-264 263.75,-321.5\"/>\n",
       "<text text-anchor=\"middle\" x=\"165\" y=\"-304.2\" font-family=\"Helvetica,sans-Serif\" font-size=\"14.00\">hj_comp &lt;= 2.067</text>\n",
       "<text text-anchor=\"middle\" x=\"165\" y=\"-287.7\" font-family=\"Helvetica,sans-Serif\" font-size=\"14.00\">samples = 100.0%</text>\n",
       "<text text-anchor=\"middle\" x=\"165\" y=\"-271.2\" font-family=\"Helvetica,sans-Serif\" font-size=\"14.00\">value = [0.331, 0.256, 0.413]</text>\n",
       "</g>\n",
       "<!-- 1 -->\n",
       "<g id=\"node2\" class=\"node\">\n",
       "<title>1</title>\n",
       "<polygon fill=\"#8139e5\" stroke=\"black\" points=\"148,-219.75 0,-219.75 0,-178.75 148,-178.75 148,-219.75\"/>\n",
       "<text text-anchor=\"middle\" x=\"74\" y=\"-202.45\" font-family=\"Helvetica,sans-Serif\" font-size=\"14.00\">samples = 41.1%</text>\n",
       "<text text-anchor=\"middle\" x=\"74\" y=\"-185.95\" font-family=\"Helvetica,sans-Serif\" font-size=\"14.00\">value = [0.0, 0.0, 1.0]</text>\n",
       "</g>\n",
       "<!-- 0&#45;&gt;1 -->\n",
       "<g id=\"edge1\" class=\"edge\">\n",
       "<title>0&#45;&gt;1</title>\n",
       "<path fill=\"none\" stroke=\"black\" d=\"M137.2,-263.8C125.93,-252.47 112.94,-239.41 101.68,-228.08\"/>\n",
       "<polygon fill=\"black\" stroke=\"black\" points=\"104.44,-225.89 94.9,-221.27 99.47,-230.83 104.44,-225.89\"/>\n",
       "<text text-anchor=\"middle\" x=\"93.77\" y=\"-240.15\" font-family=\"Helvetica,sans-Serif\" font-size=\"14.00\">True</text>\n",
       "</g>\n",
       "<!-- 2 -->\n",
       "<g id=\"node3\" class=\"node\">\n",
       "<title>2</title>\n",
       "<polygon fill=\"#f9e2d2\" stroke=\"black\" points=\"347.5,-228 166.5,-228 166.5,-170.5 347.5,-170.5 347.5,-228\"/>\n",
       "<text text-anchor=\"middle\" x=\"257\" y=\"-210.7\" font-family=\"Helvetica,sans-Serif\" font-size=\"14.00\">hj_comp &lt;= 3.433</text>\n",
       "<text text-anchor=\"middle\" x=\"257\" y=\"-194.2\" font-family=\"Helvetica,sans-Serif\" font-size=\"14.00\">samples = 58.9%</text>\n",
       "<text text-anchor=\"middle\" x=\"257\" y=\"-177.7\" font-family=\"Helvetica,sans-Serif\" font-size=\"14.00\">value = [0.564, 0.436, 0.0]</text>\n",
       "</g>\n",
       "<!-- 0&#45;&gt;2 -->\n",
       "<g id=\"edge2\" class=\"edge\">\n",
       "<title>0&#45;&gt;2</title>\n",
       "<path fill=\"none\" stroke=\"black\" d=\"M193.35,-263.55C202,-254.95 211.64,-245.37 220.73,-236.32\"/>\n",
       "<polygon fill=\"black\" stroke=\"black\" points=\"223.2,-238.8 227.82,-229.27 218.27,-233.84 223.2,-238.8\"/>\n",
       "<text text-anchor=\"middle\" x=\"228.83\" y=\"-248.15\" font-family=\"Helvetica,sans-Serif\" font-size=\"14.00\">False</text>\n",
       "</g>\n",
       "<!-- 3 -->\n",
       "<g id=\"node4\" class=\"node\">\n",
       "<title>3</title>\n",
       "<polygon fill=\"#e58139\" stroke=\"black\" points=\"255.5,-134.5 74.5,-134.5 74.5,-77 255.5,-77 255.5,-134.5\"/>\n",
       "<text text-anchor=\"middle\" x=\"165\" y=\"-117.2\" font-family=\"Helvetica,sans-Serif\" font-size=\"14.00\">hj_mob &lt;= 0.167</text>\n",
       "<text text-anchor=\"middle\" x=\"165\" y=\"-100.7\" font-family=\"Helvetica,sans-Serif\" font-size=\"14.00\">samples = 33.4%</text>\n",
       "<text text-anchor=\"middle\" x=\"165\" y=\"-84.2\" font-family=\"Helvetica,sans-Serif\" font-size=\"14.00\">value = [0.999, 0.001, 0.0]</text>\n",
       "</g>\n",
       "<!-- 2&#45;&gt;3 -->\n",
       "<g id=\"edge3\" class=\"edge\">\n",
       "<title>2&#45;&gt;3</title>\n",
       "<path fill=\"none\" stroke=\"black\" d=\"M228.65,-170.05C220,-161.45 210.36,-151.87 201.27,-142.82\"/>\n",
       "<polygon fill=\"black\" stroke=\"black\" points=\"203.73,-140.34 194.18,-135.77 198.8,-145.3 203.73,-140.34\"/>\n",
       "</g>\n",
       "<!-- 6 -->\n",
       "<g id=\"node7\" class=\"node\">\n",
       "<title>6</title>\n",
       "<polygon fill=\"#39e581\" stroke=\"black\" points=\"422,-126.25 274,-126.25 274,-85.25 422,-85.25 422,-126.25\"/>\n",
       "<text text-anchor=\"middle\" x=\"348\" y=\"-108.95\" font-family=\"Helvetica,sans-Serif\" font-size=\"14.00\">samples = 25.5%</text>\n",
       "<text text-anchor=\"middle\" x=\"348\" y=\"-92.45\" font-family=\"Helvetica,sans-Serif\" font-size=\"14.00\">value = [0.0, 1.0, 0.0]</text>\n",
       "</g>\n",
       "<!-- 2&#45;&gt;6 -->\n",
       "<g id=\"edge6\" class=\"edge\">\n",
       "<title>2&#45;&gt;6</title>\n",
       "<path fill=\"none\" stroke=\"black\" d=\"M284.8,-170.3C296.07,-158.97 309.06,-145.91 320.32,-134.58\"/>\n",
       "<polygon fill=\"black\" stroke=\"black\" points=\"322.53,-137.33 327.1,-127.77 317.56,-132.39 322.53,-137.33\"/>\n",
       "</g>\n",
       "<!-- 4 -->\n",
       "<g id=\"node5\" class=\"node\">\n",
       "<title>4</title>\n",
       "<polygon fill=\"#39e581\" stroke=\"black\" points=\"156,-41 8,-41 8,0 156,0 156,-41\"/>\n",
       "<text text-anchor=\"middle\" x=\"82\" y=\"-23.7\" font-family=\"Helvetica,sans-Serif\" font-size=\"14.00\">samples = 0.0%</text>\n",
       "<text text-anchor=\"middle\" x=\"82\" y=\"-7.2\" font-family=\"Helvetica,sans-Serif\" font-size=\"14.00\">value = [0.0, 1.0, 0.0]</text>\n",
       "</g>\n",
       "<!-- 3&#45;&gt;4 -->\n",
       "<g id=\"edge4\" class=\"edge\">\n",
       "<title>3&#45;&gt;4</title>\n",
       "<path fill=\"none\" stroke=\"black\" d=\"M136.9,-76.57C128.13,-67.77 118.47,-58.08 109.73,-49.31\"/>\n",
       "<polygon fill=\"black\" stroke=\"black\" points=\"112.3,-46.93 102.76,-42.32 107.34,-51.87 112.3,-46.93\"/>\n",
       "</g>\n",
       "<!-- 5 -->\n",
       "<g id=\"node6\" class=\"node\">\n",
       "<title>5</title>\n",
       "<polygon fill=\"#e58139\" stroke=\"black\" points=\"322,-41 174,-41 174,0 322,0 322,-41\"/>\n",
       "<text text-anchor=\"middle\" x=\"248\" y=\"-23.7\" font-family=\"Helvetica,sans-Serif\" font-size=\"14.00\">samples = 33.4%</text>\n",
       "<text text-anchor=\"middle\" x=\"248\" y=\"-7.2\" font-family=\"Helvetica,sans-Serif\" font-size=\"14.00\">value = [1.0, 0.0, 0.0]</text>\n",
       "</g>\n",
       "<!-- 3&#45;&gt;5 -->\n",
       "<g id=\"edge5\" class=\"edge\">\n",
       "<title>3&#45;&gt;5</title>\n",
       "<path fill=\"none\" stroke=\"black\" d=\"M193.1,-76.57C201.87,-67.77 211.53,-58.08 220.27,-49.31\"/>\n",
       "<polygon fill=\"black\" stroke=\"black\" points=\"222.66,-51.87 227.24,-42.32 217.7,-46.93 222.66,-51.87\"/>\n",
       "</g>\n",
       "</g>\n",
       "</svg>\n"
      ],
      "text/plain": [
       "<graphviz.sources.Source at 0x18d5f00d690>"
      ]
     },
     "metadata": {},
     "output_type": "display_data"
    }
   ],
   "source": [
    "# Export the first three decision trees from the forest\n",
    "import os\n",
    "os.environ[\"PATH\"] += os.pathsep + 'C:/Program Files (x86)/Graphviz/bin/'\n",
    "\n",
    "\n",
    "for i in range(3):\n",
    "    tree = clf.estimators_[i]\n",
    "    dot_data = export_graphviz(tree,\n",
    "                               feature_names=Test_One.feature_names,  \n",
    "                               filled=True, \n",
    "                               impurity=False, \n",
    "                               proportion=True)\n",
    "    graph = graphviz.Source(dot_data)\n",
    "    display(graph)"
   ]
  },
  {
   "cell_type": "code",
   "execution_count": 22,
   "metadata": {},
   "outputs": [
    {
     "name": "stdout",
     "output_type": "stream",
     "text": [
      "Accuracy: 1.0\n",
      "Precision: [1. 1. 1.]\n",
      "Recall: [1. 1. 1.]\n"
     ]
    }
   ],
   "source": [
    "y_pred = clf.predict(X_test)\n",
    "\n",
    "accuracy = accuracy_score(y_test, y_pred)\n",
    "precision = precision_score(y_test, y_pred,average=None)\n",
    "recall = recall_score(y_test, y_pred,average=None)\n",
    "\n",
    "print(\"Accuracy:\", accuracy)\n",
    "print(\"Precision:\", precision)\n",
    "print(\"Recall:\", recall)"
   ]
  },
  {
   "cell_type": "code",
   "execution_count": null,
   "metadata": {},
   "outputs": [],
   "source": []
  }
 ],
 "metadata": {
  "kernelspec": {
   "display_name": "Python 3",
   "language": "python",
   "name": "python3"
  },
  "language_info": {
   "codemirror_mode": {
    "name": "ipython",
    "version": 3
   },
   "file_extension": ".py",
   "mimetype": "text/x-python",
   "name": "python",
   "nbconvert_exporter": "python",
   "pygments_lexer": "ipython3",
   "version": "3.10.0"
  }
 },
 "nbformat": 4,
 "nbformat_minor": 2
}
