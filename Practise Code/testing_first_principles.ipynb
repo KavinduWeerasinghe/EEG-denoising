{
 "cells": [
  {
   "cell_type": "code",
   "execution_count": 1,
   "metadata": {},
   "outputs": [],
   "source": [
    "from pymatreader import read_mat\n",
    "import numpy as np\n",
    "import matplotlib.pyplot as plt\n",
    "from numpy.lib.stride_tricks import sliding_window_view\n",
    "from scipy.stats import kurtosis,skew,entropy\n",
    "import eeglib\n",
    "import joblib\n",
    "import time"
   ]
  },
  {
   "cell_type": "code",
   "execution_count": 3,
   "metadata": {},
   "outputs": [],
   "source": [
    "model= joblib.load(\"random_forest.joblib\")\n"
   ]
  },
  {
   "cell_type": "code",
   "execution_count": 4,
   "metadata": {},
   "outputs": [
    {
     "name": "stdout",
     "output_type": "stream",
     "text": [
      "(7914, 512)\n",
      "(13512, 512)\n"
     ]
    }
   ],
   "source": [
    "types=['EEG','EOG','EMG']\n",
    "exs=['mat','npy']\n",
    "epochs=[]\n",
    "for i,type in enumerate(types):\n",
    "    file_loc=\"D:/FYP/EEGdenoiseNet-master/EEGdenoiseNet-master/data/{0}_all_epochs.{1}\".format(types[i],exs[1])\n",
    "    data_i=np.load(file_loc)\n",
    "    if i==0:\n",
    "        epochs=data_i\n",
    "    else:\n",
    "        epochs=np.vstack((epochs,data_i))\n",
    "        print(epochs.shape)"
   ]
  },
  {
   "cell_type": "markdown",
   "metadata": {},
   "source": [
    "Plotting the first 5 waveforms and seeing the predicted label"
   ]
  },
  {
   "cell_type": "code",
   "execution_count": 7,
   "metadata": {},
   "outputs": [],
   "source": [
    "def hj_mobility(data,axis_=1):\n",
    "    return np.sqrt(np.var(np.diff(data,axis=axis_),axis=axis_)/np.var(data,axis=axis_))\n",
    "\n",
    "def hj_complexity(data,axis_=1):\n",
    "    return hj_mobility(np.diff(data,axis=axis_),axis_=axis_)/hj_mobility(data,axis_=axis_)\n",
    "\n",
    "def predict_artefact_class(model,data_i):\n",
    "    #normalise the data_i array\n",
    "    t1=time.time()\n",
    "    mu_i=np.mean(data_i,axis=1)\n",
    "    mu_i=mu_i.reshape(mu_i.shape[0],1)\n",
    "    sigma_i=np.std(data_i,axis=1)\n",
    "    sigma_i=sigma_i.reshape(sigma_i.shape[0],1)\n",
    "    data_i=(data_i-mu_i)/sigma_i\n",
    "\n",
    "    #mobility\n",
    "    hj_mob_i=hj_mobility(data_i)\n",
    "    hj_mob_i=hj_mob_i.reshape(hj_mob_i.shape[0],1)\n",
    "\n",
    "    #complexity\n",
    "    hj_comp_i=hj_complexity(data_i)\n",
    "    hj_comp_i=hj_comp_i.reshape(hj_comp_i.shape[0],1)\n",
    "\n",
    "    #skew\n",
    "    skewness_i=skew(data_i,axis=1)**2\n",
    "    skewness_i=skewness_i.reshape(skewness_i.shape[0],1)\n",
    "\n",
    "    #kurtosis\n",
    "    kurtosis_i=kurtosis(data_i,axis=1)**2\n",
    "    kurtosis_i=kurtosis_i.reshape(kurtosis_i.shape[0],1)\n",
    "    print(hj_mob_i.shape,skewness_i.shape,kurtosis_i.shape)\n",
    "    data_i=np.hstack((hj_mob_i,skewness_i,kurtosis_i,hj_comp_i)).T\n",
    "\n",
    "    #predict\n",
    "    pred=model.predict(data_i.T)\n",
    "    print(model.predict_proba(data_i.T))\n",
    "    t2=time.time()\n",
    "    print(\"time taken: \",t2-t1)\n",
    "\n",
    "    return pred"
   ]
  },
  {
   "cell_type": "code",
   "execution_count": 45,
   "metadata": {},
   "outputs": [],
   "source": [
    "#picking 5 random waves\n",
    "#testing_waves=epochs[0:5,:]"
   ]
  },
  {
   "cell_type": "code",
   "execution_count": 8,
   "metadata": {},
   "outputs": [
    {
     "name": "stdout",
     "output_type": "stream",
     "text": [
      "(1, 1) (1, 1) (1, 1)\n",
      "[[1. 0. 0.]]\n",
      "time taken:  0.027379512786865234\n",
      "(2, 1) (2, 1) (2, 1)\n",
      "[[0. 0. 1.]\n",
      " [0. 0. 1.]]\n",
      "time taken:  0.030365705490112305\n",
      "(3, 1) (3, 1) (3, 1)\n",
      "[[0. 0. 1.]\n",
      " [1. 0. 0.]\n",
      " [1. 0. 0.]]\n",
      "time taken:  0.020374774932861328\n",
      "(4, 1) (4, 1) (4, 1)\n",
      "[[0. 0. 1.]\n",
      " [0. 0. 1.]\n",
      " [1. 0. 0.]\n",
      " [0. 0. 1.]]\n",
      "time taken:  0.03826498985290527\n",
      "(5, 1) (5, 1) (5, 1)\n",
      "[[0. 1. 0.]\n",
      " [0. 0. 1.]\n",
      " [0. 1. 0.]\n",
      " [1. 0. 0.]\n",
      " [1. 0. 0.]]\n",
      "time taken:  0.04353785514831543\n",
      "(6, 1) (6, 1) (6, 1)\n",
      "[[0. 1. 0.]\n",
      " [0. 0. 1.]\n",
      " [1. 0. 0.]\n",
      " [1. 0. 0.]\n",
      " [0. 1. 0.]\n",
      " [0. 0. 1.]]\n",
      "time taken:  0.028889894485473633\n",
      "(7, 1) (7, 1) (7, 1)\n",
      "[[0. 0. 1.]\n",
      " [1. 0. 0.]\n",
      " [0. 1. 0.]\n",
      " [0. 0. 1.]\n",
      " [0. 1. 0.]\n",
      " [0. 0. 1.]\n",
      " [0. 0. 1.]]\n",
      "time taken:  0.029393911361694336\n",
      "(8, 1) (8, 1) (8, 1)\n",
      "[[0. 0. 1.]\n",
      " [0. 0. 1.]\n",
      " [0. 1. 0.]\n",
      " [1. 0. 0.]\n",
      " [1. 0. 0.]\n",
      " [1. 0. 0.]\n",
      " [1. 0. 0.]\n",
      " [0. 0. 1.]]\n",
      "time taken:  0.02934741973876953\n",
      "(9, 1) (9, 1) (9, 1)\n",
      "[[1. 0. 0.]\n",
      " [1. 0. 0.]\n",
      " [1. 0. 0.]\n",
      " [0. 1. 0.]\n",
      " [1. 0. 0.]\n",
      " [0. 0. 1.]\n",
      " [0. 1. 0.]\n",
      " [0. 1. 0.]\n",
      " [1. 0. 0.]]\n",
      "time taken:  0.07234048843383789\n",
      "(10, 1) (10, 1) (10, 1)\n",
      "[[1. 0. 0.]\n",
      " [0. 0. 1.]\n",
      " [0. 0. 1.]\n",
      " [0. 0. 1.]\n",
      " [1. 0. 0.]\n",
      " [1. 0. 0.]\n",
      " [0. 1. 0.]\n",
      " [0. 0. 1.]\n",
      " [0. 0. 1.]\n",
      " [0. 1. 0.]]\n",
      "time taken:  0.04390072822570801\n",
      "(11, 1) (11, 1) (11, 1)\n",
      "[[0. 0. 1.]\n",
      " [1. 0. 0.]\n",
      " [1. 0. 0.]\n",
      " [1. 0. 0.]\n",
      " [0. 1. 0.]\n",
      " [0. 0. 1.]\n",
      " [1. 0. 0.]\n",
      " [0. 0. 1.]\n",
      " [1. 0. 0.]\n",
      " [1. 0. 0.]\n",
      " [0. 0. 1.]]\n",
      "time taken:  0.026929855346679688\n",
      "(12, 1) (12, 1) (12, 1)\n",
      "[[0. 0. 1.]\n",
      " [0. 0. 1.]\n",
      " [0. 0. 1.]\n",
      " [1. 0. 0.]\n",
      " [0. 0. 1.]\n",
      " [1. 0. 0.]\n",
      " [0. 1. 0.]\n",
      " [0. 1. 0.]\n",
      " [0. 0. 1.]\n",
      " [1. 0. 0.]\n",
      " [0. 1. 0.]\n",
      " [0. 1. 0.]]\n",
      "time taken:  0.017852067947387695\n"
     ]
    }
   ],
   "source": [
    "for i in range(1,13):\n",
    "    \n",
    "    random_indexes=np.random.randint(0,epochs.shape[0],size=i)\n",
    "    testing_waves=epochs[random_indexes,:]\n",
    "\n",
    "    results=predict_artefact_class(model,testing_waves)\n"
   ]
  },
  {
   "cell_type": "code",
   "execution_count": 49,
   "metadata": {},
   "outputs": [
    {
     "ename": "ModuleNotFoundError",
     "evalue": "No module named 'Read'",
     "output_type": "error",
     "traceback": [
      "\u001b[1;31m---------------------------------------------------------------------------\u001b[0m",
      "\u001b[1;31mModuleNotFoundError\u001b[0m                       Traceback (most recent call last)",
      "Cell \u001b[1;32mIn[49], line 3\u001b[0m\n\u001b[0;32m      1\u001b[0m \u001b[38;5;28;01mimport\u001b[39;00m \u001b[38;5;21;01mmatplotlib\u001b[39;00m\u001b[38;5;21;01m.\u001b[39;00m\u001b[38;5;21;01mpyplot\u001b[39;00m \u001b[38;5;28;01mas\u001b[39;00m \u001b[38;5;21;01mplt\u001b[39;00m\n\u001b[0;32m      2\u001b[0m \u001b[38;5;28;01mimport\u001b[39;00m \u001b[38;5;21;01mnumpy\u001b[39;00m \u001b[38;5;28;01mas\u001b[39;00m \u001b[38;5;21;01mnp\u001b[39;00m\n\u001b[1;32m----> 3\u001b[0m \u001b[38;5;28;01mfrom\u001b[39;00m \u001b[38;5;21;01mRead\u001b[39;00m\u001b[38;5;21;01m.\u001b[39;00m\u001b[38;5;21;01mRead\u001b[39;00m \u001b[38;5;28;01mimport\u001b[39;00m open_record\n\u001b[0;32m      4\u001b[0m \u001b[38;5;28;01mfrom\u001b[39;00m \u001b[38;5;21;01masrpy\u001b[39;00m \u001b[38;5;28;01mimport\u001b[39;00m asr_calibrate, asr_process,clean_windows\n\u001b[0;32m      5\u001b[0m \u001b[38;5;28;01mfrom\u001b[39;00m \u001b[38;5;21;01mFiltering\u001b[39;00m \u001b[38;5;28;01mimport\u001b[39;00m Basic_filters \u001b[38;5;28;01mas\u001b[39;00m bf\n",
      "\u001b[1;31mModuleNotFoundError\u001b[0m: No module named 'Read'"
     ]
    }
   ],
   "source": []
  },
  {
   "cell_type": "code",
   "execution_count": null,
   "metadata": {},
   "outputs": [],
   "source": []
  }
 ],
 "metadata": {
  "kernelspec": {
   "display_name": "Python 3",
   "language": "python",
   "name": "python3"
  },
  "language_info": {
   "codemirror_mode": {
    "name": "ipython",
    "version": 3
   },
   "file_extension": ".py",
   "mimetype": "text/x-python",
   "name": "python",
   "nbconvert_exporter": "python",
   "pygments_lexer": "ipython3",
   "version": "3.10.0"
  }
 },
 "nbformat": 4,
 "nbformat_minor": 2
}
